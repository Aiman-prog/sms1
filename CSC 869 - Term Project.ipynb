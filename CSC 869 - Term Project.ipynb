{
 "cells": [
  {
   "cell_type": "code",
   "execution_count": 1,
   "metadata": {
    "collapsed": true
   },
   "outputs": [],
   "source": [
    "messages = [line.rstrip() for line in open('smsspamcollection/SMSSpamCollection')]"
   ]
  },
  {
   "cell_type": "code",
   "execution_count": 2,
   "metadata": {},
   "outputs": [
    {
     "data": {
      "text/plain": [
       "5574"
      ]
     },
     "execution_count": 2,
     "metadata": {},
     "output_type": "execute_result"
    }
   ],
   "source": [
    "len(messages)"
   ]
  },
  {
   "cell_type": "code",
   "execution_count": 3,
   "metadata": {},
   "outputs": [
    {
     "name": "stdout",
     "output_type": "stream",
     "text": [
      "0 ham\tGo until jurong point, crazy.. Available only in bugis n great world la e buffet... Cine there got amore wat...\n",
      "\n",
      "\n",
      "1 ham\tOk lar... Joking wif u oni...\n",
      "\n",
      "\n",
      "2 spam\tFree entry in 2 a wkly comp to win FA Cup final tkts 21st May 2005. Text FA to 87121 to receive entry question(std txt rate)T&C's apply 08452810075over18's\n",
      "\n",
      "\n",
      "3 ham\tU dun say so early hor... U c already then say...\n",
      "\n",
      "\n",
      "4 ham\tNah I don't think he goes to usf, he lives around here though\n",
      "\n",
      "\n",
      "5 spam\tFreeMsg Hey there darling it's been 3 week's now and no word back! I'd like some fun you up for it still? Tb ok! XxX std chgs to send, Â£1.50 to rcv\n",
      "\n",
      "\n",
      "6 ham\tEven my brother is not like to speak with me. They treat me like aids patent.\n",
      "\n",
      "\n",
      "7 ham\tAs per your request 'Melle Melle (Oru Minnaminunginte Nurungu Vettam)' has been set as your callertune for all Callers. Press *9 to copy your friends Callertune\n",
      "\n",
      "\n",
      "8 spam\tWINNER!! As a valued network customer you have been selected to receivea Â£900 prize reward! To claim call 09061701461. Claim code KL341. Valid 12 hours only.\n",
      "\n",
      "\n",
      "9 spam\tHad your mobile 11 months or more? U R entitled to Update to the latest colour mobiles with camera for Free! Call The Mobile Update Co FREE on 08002986030\n",
      "\n",
      "\n",
      "10 ham\tI'm gonna be home soon and i don't want to talk about this stuff anymore tonight, k? I've cried enough today.\n",
      "\n",
      "\n",
      "11 spam\tSIX chances to win CASH! From 100 to 20,000 pounds txt> CSH11 and send to 87575. Cost 150p/day, 6days, 16+ TsandCs apply Reply HL 4 info\n",
      "\n",
      "\n",
      "12 spam\tURGENT! You have won a 1 week FREE membership in our Â£100,000 Prize Jackpot! Txt the word: CLAIM to No: 81010 T&C www.dbuk.net LCCLTD POBOX 4403LDNW1A7RW18\n",
      "\n",
      "\n",
      "13 ham\tI've been searching for the right words to thank you for this breather. I promise i wont take your help for granted and will fulfil my promise. You have been wonderful and a blessing at all times.\n",
      "\n",
      "\n",
      "14 ham\tI HAVE A DATE ON SUNDAY WITH WILL!!\n",
      "\n",
      "\n",
      "15 spam\tXXXMobileMovieClub: To use your credit, click the WAP link in the next txt message or click here>> http://wap. xxxmobilemovieclub.com?n=QJKGIGHJJGCBL\n",
      "\n",
      "\n",
      "16 ham\tOh k...i'm watching here:)\n",
      "\n",
      "\n",
      "17 ham\tEh u remember how 2 spell his name... Yes i did. He v naughty make until i v wet.\n",
      "\n",
      "\n",
      "18 ham\tFine if thatÂ’s the way u feel. ThatÂ’s the way its gota b\n",
      "\n",
      "\n",
      "19 spam\tEngland v Macedonia - dont miss the goals/team news. Txt ur national team to 87077 eg ENGLAND to 87077 Try:WALES, SCOTLAND 4txt/Ãº1.20 POBOXox36504W45WQ 16+\n",
      "\n",
      "\n"
     ]
    }
   ],
   "source": [
    "for messno, msg in enumerate(messages[:20]):\n",
    "    print(messno, msg)\n",
    "    print('\\n')"
   ]
  },
  {
   "cell_type": "code",
   "execution_count": 4,
   "metadata": {
    "collapsed": true
   },
   "outputs": [],
   "source": [
    "# Organize messages into dataframes using pandas"
   ]
  },
  {
   "cell_type": "code",
   "execution_count": 5,
   "metadata": {},
   "outputs": [
    {
     "data": {
      "text/html": [
       "<div>\n",
       "<style>\n",
       "    .dataframe thead tr:only-child th {\n",
       "        text-align: right;\n",
       "    }\n",
       "\n",
       "    .dataframe thead th {\n",
       "        text-align: left;\n",
       "    }\n",
       "\n",
       "    .dataframe tbody tr th {\n",
       "        vertical-align: top;\n",
       "    }\n",
       "</style>\n",
       "<table border=\"1\" class=\"dataframe\">\n",
       "  <thead>\n",
       "    <tr style=\"text-align: right;\">\n",
       "      <th></th>\n",
       "      <th>label</th>\n",
       "      <th>message</th>\n",
       "    </tr>\n",
       "  </thead>\n",
       "  <tbody>\n",
       "    <tr>\n",
       "      <th>0</th>\n",
       "      <td>ham</td>\n",
       "      <td>Go until jurong point, crazy.. Available only ...</td>\n",
       "    </tr>\n",
       "    <tr>\n",
       "      <th>1</th>\n",
       "      <td>ham</td>\n",
       "      <td>Ok lar... Joking wif u oni...</td>\n",
       "    </tr>\n",
       "    <tr>\n",
       "      <th>2</th>\n",
       "      <td>spam</td>\n",
       "      <td>Free entry in 2 a wkly comp to win FA Cup fina...</td>\n",
       "    </tr>\n",
       "    <tr>\n",
       "      <th>3</th>\n",
       "      <td>ham</td>\n",
       "      <td>U dun say so early hor... U c already then say...</td>\n",
       "    </tr>\n",
       "    <tr>\n",
       "      <th>4</th>\n",
       "      <td>ham</td>\n",
       "      <td>Nah I don't think he goes to usf, he lives aro...</td>\n",
       "    </tr>\n",
       "  </tbody>\n",
       "</table>\n",
       "</div>"
      ],
      "text/plain": [
       "  label                                            message\n",
       "0   ham  Go until jurong point, crazy.. Available only ...\n",
       "1   ham                      Ok lar... Joking wif u oni...\n",
       "2  spam  Free entry in 2 a wkly comp to win FA Cup fina...\n",
       "3   ham  U dun say so early hor... U c already then say...\n",
       "4   ham  Nah I don't think he goes to usf, he lives aro..."
      ]
     },
     "execution_count": 5,
     "metadata": {},
     "output_type": "execute_result"
    }
   ],
   "source": [
    "import pandas as pd\n",
    "\n",
    "messages = pd.read_csv('smsspamcollection/SMSSpamCollection', sep='\\t', names = ['label', 'message'])\n",
    "\n",
    "messages.head()"
   ]
  },
  {
   "cell_type": "code",
   "execution_count": 6,
   "metadata": {},
   "outputs": [
    {
     "data": {
      "text/html": [
       "<div>\n",
       "<style>\n",
       "    .dataframe thead tr:only-child th {\n",
       "        text-align: right;\n",
       "    }\n",
       "\n",
       "    .dataframe thead th {\n",
       "        text-align: left;\n",
       "    }\n",
       "\n",
       "    .dataframe tbody tr th {\n",
       "        vertical-align: top;\n",
       "    }\n",
       "</style>\n",
       "<table border=\"1\" class=\"dataframe\">\n",
       "  <thead>\n",
       "    <tr style=\"text-align: right;\">\n",
       "      <th></th>\n",
       "      <th>label</th>\n",
       "      <th>message</th>\n",
       "    </tr>\n",
       "  </thead>\n",
       "  <tbody>\n",
       "    <tr>\n",
       "      <th>count</th>\n",
       "      <td>5572</td>\n",
       "      <td>5572</td>\n",
       "    </tr>\n",
       "    <tr>\n",
       "      <th>unique</th>\n",
       "      <td>2</td>\n",
       "      <td>5169</td>\n",
       "    </tr>\n",
       "    <tr>\n",
       "      <th>top</th>\n",
       "      <td>ham</td>\n",
       "      <td>Sorry, I'll call later</td>\n",
       "    </tr>\n",
       "    <tr>\n",
       "      <th>freq</th>\n",
       "      <td>4825</td>\n",
       "      <td>30</td>\n",
       "    </tr>\n",
       "  </tbody>\n",
       "</table>\n",
       "</div>"
      ],
      "text/plain": [
       "       label                 message\n",
       "count   5572                    5572\n",
       "unique     2                    5169\n",
       "top      ham  Sorry, I'll call later\n",
       "freq    4825                      30"
      ]
     },
     "execution_count": 6,
     "metadata": {},
     "output_type": "execute_result"
    }
   ],
   "source": [
    "messages.describe()"
   ]
  },
  {
   "cell_type": "code",
   "execution_count": 7,
   "metadata": {},
   "outputs": [
    {
     "data": {
      "text/html": [
       "<div>\n",
       "<style>\n",
       "    .dataframe thead tr:only-child th {\n",
       "        text-align: right;\n",
       "    }\n",
       "\n",
       "    .dataframe thead th {\n",
       "        text-align: left;\n",
       "    }\n",
       "\n",
       "    .dataframe tbody tr th {\n",
       "        vertical-align: top;\n",
       "    }\n",
       "</style>\n",
       "<table border=\"1\" class=\"dataframe\">\n",
       "  <thead>\n",
       "    <tr>\n",
       "      <th></th>\n",
       "      <th colspan=\"4\" halign=\"left\">message</th>\n",
       "    </tr>\n",
       "    <tr>\n",
       "      <th></th>\n",
       "      <th>count</th>\n",
       "      <th>unique</th>\n",
       "      <th>top</th>\n",
       "      <th>freq</th>\n",
       "    </tr>\n",
       "    <tr>\n",
       "      <th>label</th>\n",
       "      <th></th>\n",
       "      <th></th>\n",
       "      <th></th>\n",
       "      <th></th>\n",
       "    </tr>\n",
       "  </thead>\n",
       "  <tbody>\n",
       "    <tr>\n",
       "      <th>ham</th>\n",
       "      <td>4825</td>\n",
       "      <td>4516</td>\n",
       "      <td>Sorry, I'll call later</td>\n",
       "      <td>30</td>\n",
       "    </tr>\n",
       "    <tr>\n",
       "      <th>spam</th>\n",
       "      <td>747</td>\n",
       "      <td>653</td>\n",
       "      <td>Please call our customer service representativ...</td>\n",
       "      <td>4</td>\n",
       "    </tr>\n",
       "  </tbody>\n",
       "</table>\n",
       "</div>"
      ],
      "text/plain": [
       "      message                                                               \n",
       "        count unique                                                top freq\n",
       "label                                                                       \n",
       "ham      4825   4516                             Sorry, I'll call later   30\n",
       "spam      747    653  Please call our customer service representativ...    4"
      ]
     },
     "execution_count": 7,
     "metadata": {},
     "output_type": "execute_result"
    }
   ],
   "source": [
    "messages.groupby('label').describe()"
   ]
  },
  {
   "cell_type": "code",
   "execution_count": 8,
   "metadata": {
    "collapsed": true
   },
   "outputs": [],
   "source": [
    "# add a new feature called length that stores length of the message"
   ]
  },
  {
   "cell_type": "code",
   "execution_count": 9,
   "metadata": {},
   "outputs": [
    {
     "data": {
      "text/html": [
       "<div>\n",
       "<style>\n",
       "    .dataframe thead tr:only-child th {\n",
       "        text-align: right;\n",
       "    }\n",
       "\n",
       "    .dataframe thead th {\n",
       "        text-align: left;\n",
       "    }\n",
       "\n",
       "    .dataframe tbody tr th {\n",
       "        vertical-align: top;\n",
       "    }\n",
       "</style>\n",
       "<table border=\"1\" class=\"dataframe\">\n",
       "  <thead>\n",
       "    <tr style=\"text-align: right;\">\n",
       "      <th></th>\n",
       "      <th>label</th>\n",
       "      <th>message</th>\n",
       "      <th>length</th>\n",
       "    </tr>\n",
       "  </thead>\n",
       "  <tbody>\n",
       "    <tr>\n",
       "      <th>0</th>\n",
       "      <td>ham</td>\n",
       "      <td>Go until jurong point, crazy.. Available only ...</td>\n",
       "      <td>111</td>\n",
       "    </tr>\n",
       "    <tr>\n",
       "      <th>1</th>\n",
       "      <td>ham</td>\n",
       "      <td>Ok lar... Joking wif u oni...</td>\n",
       "      <td>29</td>\n",
       "    </tr>\n",
       "    <tr>\n",
       "      <th>2</th>\n",
       "      <td>spam</td>\n",
       "      <td>Free entry in 2 a wkly comp to win FA Cup fina...</td>\n",
       "      <td>155</td>\n",
       "    </tr>\n",
       "    <tr>\n",
       "      <th>3</th>\n",
       "      <td>ham</td>\n",
       "      <td>U dun say so early hor... U c already then say...</td>\n",
       "      <td>49</td>\n",
       "    </tr>\n",
       "    <tr>\n",
       "      <th>4</th>\n",
       "      <td>ham</td>\n",
       "      <td>Nah I don't think he goes to usf, he lives aro...</td>\n",
       "      <td>61</td>\n",
       "    </tr>\n",
       "    <tr>\n",
       "      <th>5</th>\n",
       "      <td>spam</td>\n",
       "      <td>FreeMsg Hey there darling it's been 3 week's n...</td>\n",
       "      <td>147</td>\n",
       "    </tr>\n",
       "  </tbody>\n",
       "</table>\n",
       "</div>"
      ],
      "text/plain": [
       "  label                                            message  length\n",
       "0   ham  Go until jurong point, crazy.. Available only ...     111\n",
       "1   ham                      Ok lar... Joking wif u oni...      29\n",
       "2  spam  Free entry in 2 a wkly comp to win FA Cup fina...     155\n",
       "3   ham  U dun say so early hor... U c already then say...      49\n",
       "4   ham  Nah I don't think he goes to usf, he lives aro...      61\n",
       "5  spam  FreeMsg Hey there darling it's been 3 week's n...     147"
      ]
     },
     "execution_count": 9,
     "metadata": {},
     "output_type": "execute_result"
    }
   ],
   "source": [
    "messages['length'] = messages['message'].apply(len)\n",
    "\n",
    "messages.head(6)"
   ]
  },
  {
   "cell_type": "code",
   "execution_count": 10,
   "metadata": {
    "collapsed": true
   },
   "outputs": [],
   "source": [
    "# plot distribution of message length"
   ]
  },
  {
   "cell_type": "code",
   "execution_count": 11,
   "metadata": {},
   "outputs": [
    {
     "data": {
      "image/png": "[encoded data removed]",
      "text/plain": [
       "<matplotlib.figure.Figure at 0x2629b371978>"
      ]
     },
     "metadata": {},
     "output_type": "display_data"
    }
   ],
   "source": [
    "import matplotlib.pyplot as plt\n",
    "import seaborn as sns\n",
    "%matplotlib inline\n",
    "\n",
    "plt.xlabel('message length')\n",
    "messages['length'].hist(bins=100, edgecolor='black', figsize=(10,5))\n",
    "plt.savefig('output/Histogram1.png')"
   ]
  },
  {
   "cell_type": "code",
   "execution_count": 12,
   "metadata": {
    "collapsed": true
   },
   "outputs": [],
   "source": [
    "# plot separate histograms for spam and ham to analyze the difference in distribution"
   ]
  },
  {
   "cell_type": "code",
   "execution_count": 13,
   "metadata": {},
   "outputs": [
    {
     "data": {
      "image/png": "[encoded data removed]",
      "text/plain": [
       "<matplotlib.figure.Figure at 0x2629f023828>"
      ]
     },
     "metadata": {},
     "output_type": "display_data"
    }
   ],
   "source": [
    "messages.hist(column='length',by='label',bins=60,figsize=(12,5),\n",
    "              edgecolor='black')\n",
    "plt.savefig('output/Histogram2.png')"
   ]
  },
  {
   "cell_type": "code",
   "execution_count": 14,
   "metadata": {
    "collapsed": true
   },
   "outputs": [],
   "source": [
    "# text pre-processing"
   ]
  },
  {
   "cell_type": "code",
   "execution_count": 17,
   "metadata": {},
   "outputs": [
    {
     "name": "stdout",
     "output_type": "stream",
     "text": [
      "\n",
      "######################## Processed Messages #########################\n",
      "\n",
      "     label                                            message  length\n",
      "0      ham  [Go, jurong, point, crazy, Available, bugis, n...     111\n",
      "1      ham                     [Ok, lar, Joking, wif, u, oni]      29\n",
      "2     spam  [Free, entry, 2, wkly, comp, win, FA, Cup, fin...     155\n",
      "3      ham      [U, dun, say, early, hor, U, c, already, say]      49\n",
      "4      ham  [Nah, dont, think, goes, usf, lives, around, t...      61\n",
      "5     spam  [FreeMsg, Hey, darling, 3, weeks, word, back, ...     147\n",
      "6      ham  [Even, brother, like, speak, treat, like, aids...      77\n",
      "7      ham  [per, request, Melle, Melle, Oru, Minnaminungi...     160\n",
      "8     spam  [WINNER, valued, network, customer, selected, ...     157\n",
      "9     spam  [mobile, 11, months, U, R, entitled, Update, l...     154\n",
      "10     ham  [Im, gonna, home, soon, dont, want, talk, stuf...     109\n",
      "11    spam  [SIX, chances, win, CASH, 100, 20000, pounds, ...     136\n",
      "12    spam  [URGENT, 1, week, FREE, membership, £100000, P...     155\n",
      "13     ham  [Ive, searching, right, words, thank, breather...     196\n",
      "14     ham                                     [DATE, SUNDAY]      35\n",
      "15    spam  [XXXMobileMovieClub, use, credit, click, WAP, ...     149\n",
      "16     ham                                [Oh, kim, watching]      26\n",
      "17     ham  [Eh, u, remember, 2, spell, name, Yes, v, naug...      81\n",
      "18     ham  [Fine, thats, way, u, feel, Thats, way, gota...      56\n",
      "19    spam  [England, v, Macedonia, dont, miss, goalsteam,...     155\n",
      "20     ham                           [seriously, spell, name]      41\n",
      "21     ham       [I‘m, going, try, 2, months, ha, ha, joking]      47\n",
      "22     ham             [ü, pay, first, lar, da, stock, comin]      52\n",
      "23     ham  [Aft, finish, lunch, go, str, lor, Ard, 3, smt...      88\n",
      "24     ham           [Ffffffffff, Alright, way, meet, sooner]      57\n",
      "25     ham  [forced, eat, slice, Im, really, hungry, tho, ...     144\n",
      "26     ham                          [Lol, always, convincing]      30\n",
      "27     ham  [catch, bus, frying, egg, make, tea, eating, m...     134\n",
      "28     ham  [Im, back, amp, packing, car, Ill, let, know, ...      75\n",
      "29     ham   [Ahhh, Work, vaguely, remember, feel, like, Lol]      64\n",
      "...    ...                                                ...     ...\n",
      "5542   ham                  [Armand, says, get, ass, epsilon]      40\n",
      "5543   ham        [U, still, havent, got, urself, jacket, ah]      38\n",
      "5544   ham  [Im, taking, derek, amp, taylor, walmart, Im, ...     154\n",
      "5545   ham                        [Hi, durban, still, number]      45\n",
      "5546   ham                       [Ic, lotta, childporn, cars]      42\n",
      "5547  spam  [contract, mobile, 11, Mnths, Latest, Motorola...     160\n",
      "5548   ham                               [trying, weekend, V]      34\n",
      "5549   ham  [know, wot, people, wear, shirts, jumpers, hat...      87\n",
      "5550   ham                           [Cool, time, think, get]      43\n",
      "5551   ham          [Wen, get, spiritual, deep, Thats, great]      51\n",
      "5552   ham  [safe, trip, Nigeria, Wish, happiness, soon, c...      91\n",
      "5553   ham                           [Hahahause, brain, dear]      27\n",
      "5554   ham  [Well, keep, mind, Ive, got, enough, gas, one,...      98\n",
      "5555   ham  [Yeh, Indians, nice, Tho, kane, bit, shud, go,...     153\n",
      "5556   ham        [Yes, thats, u, texted, Pshewmissing, much]      63\n",
      "5557   ham  [meant, calculation, ltgt, units, ltgt, school...     273\n",
      "5558   ham                          [Sorry, Ill, call, later]      22\n",
      "5559   ham       [arent, next, ltgt, hours, imma, flip, shit]      66\n",
      "5560   ham                      [Anything, lor, Juz, us, lor]      33\n",
      "5561   ham  [Get, dump, heap, mom, decided, come, lowes, B...      70\n",
      "5562   ham  [Ok, lor, Sony, ericsson, salesman, ask, shuhu...      96\n",
      "5563   ham                           [Ard, 6, like, dat, lor]      19\n",
      "5564   ham      [dont, wait, til, least, wednesday, see, get]      67\n",
      "5565   ham                                         [Huh, lei]      12\n",
      "5566  spam  [REMINDER, O2, get, 250, pounds, free, call, c...     147\n",
      "5567  spam  [2nd, time, tried, 2, contact, u, U, £750, Pou...     160\n",
      "5568   ham                 [ü, b, going, esplanade, fr, home]      36\n",
      "5569   ham                   [Pity, mood, Soany, suggestions]      57\n",
      "5570   ham  [guy, bitching, acted, like, id, interested, b...     125\n",
      "5571   ham                                 [Rofl, true, name]      26\n",
      "\n",
      "[5572 rows x 3 columns]\n"
     ]
    }
   ],
   "source": [
    "# File:        text_preprocess.py\n",
    "#\n",
    "# Author:      Rohan Patel\n",
    "#\n",
    "# Date:        05/09/2018\n",
    "#\n",
    "# Description: This script loads the sms spam data, organizes the data into a pandas dataframe, and applies\n",
    "#              some basic text pre-processing techniques like stopword removal and punctuation removal. Finally,\n",
    "#              the processed dataframe is copied into a new csv file processed_msgs.csv\n",
    "\n",
    "import pandas as pd\n",
    "import nltk\n",
    "from nltk.corpus import stopwords\n",
    "from nltk.tokenize import word_tokenize\n",
    "import string\n",
    "\n",
    "def loadData():\n",
    "    \n",
    "    messages = pd.read_csv('smsspamcollection/SMSSpamCollection', sep='\\t', names = ['label', 'message'])\n",
    "    messages['length'] = messages['message'].apply(len)\n",
    "    \n",
    "    return messages\n",
    "\n",
    "def text_process(data):\n",
    "    '''\n",
    "    1. remove punc\n",
    "    2. remove stop words\n",
    "    3. return list of clean text words\n",
    "    '''\n",
    "    \n",
    "    nopunc = [c for c in data if c not in string.punctuation] #remove punctuations\n",
    "    nopunc = ''.join(nopunc)\n",
    "    \n",
    "    #nltk.download('stopwords')\n",
    "    clean_msgs = [word for word in nopunc.split() if word.lower() not in stopwords.words('english')] # remove stopwords\n",
    "    \n",
    "    return clean_msgs\n",
    "\n",
    "def main():\n",
    "    \n",
    "    messages = loadData()\n",
    "    #print(messages)\n",
    "    messages['message'] = messages['message'].apply(text_process)\n",
    "    \n",
    "    print('\\n######################## Processed Messages #########################\\n')\n",
    "    print(messages)\n",
    "    messages.to_csv('output/processed_msgs.csv', encoding='utf-8', index=False) #copy processed messages dataframe to a new csv file\n",
    "\n",
    "if __name__ == \"__main__\":\n",
    "    main()"
   ]
  },
  {
   "cell_type": "code",
   "execution_count": null,
   "metadata": {
    "collapsed": true
   },
   "outputs": [],
   "source": []
  }
 ],
 "metadata": {
  "kernelspec": {
   "display_name": "Python 3",
   "language": "python",
   "name": "python3"
  },
  "language_info": {
   "codemirror_mode": {
    "name": "ipython",
    "version": 3
   },
   "file_extension": ".py",
   "mimetype": "text/x-python",
   "name": "python",
   "nbconvert_exporter": "python",
   "pygments_lexer": "ipython3",
   "version": "3.6.2"
  }
 },
 "nbformat": 4,
 "nbformat_minor": 2
}
