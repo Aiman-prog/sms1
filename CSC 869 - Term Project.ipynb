{
 "cells": [
  {
   "cell_type": "code",
   "execution_count": 1,
   "metadata": {
    "collapsed": true
   },
   "outputs": [],
   "source": [
    "messages = [line.rstrip() for line in open('smsspamcollection/SMSSpamCollection')]"
   ]
  },
  {
   "cell_type": "code",
   "execution_count": 2,
   "metadata": {},
   "outputs": [
    {
     "data": {
      "text/plain": [
       "5574"
      ]
     },
     "execution_count": 2,
     "metadata": {},
     "output_type": "execute_result"
    }
   ],
   "source": [
    "len(messages)"
   ]
  },
  {
   "cell_type": "code",
   "execution_count": 3,
   "metadata": {},
   "outputs": [
    {
     "name": "stdout",
     "output_type": "stream",
     "text": [
      "0 ham\tGo until jurong point, crazy.. Available only in bugis n great world la e buffet... Cine there got amore wat...\n",
      "\n",
      "\n",
      "1 ham\tOk lar... Joking wif u oni...\n",
      "\n",
      "\n",
      "2 spam\tFree entry in 2 a wkly comp to win FA Cup final tkts 21st May 2005. Text FA to 87121 to receive entry question(std txt rate)T&C's apply 08452810075over18's\n",
      "\n",
      "\n",
      "3 ham\tU dun say so early hor... U c already then say...\n",
      "\n",
      "\n",
      "4 ham\tNah I don't think he goes to usf, he lives around here though\n",
      "\n",
      "\n",
      "5 spam\tFreeMsg Hey there darling it's been 3 week's now and no word back! I'd like some fun you up for it still? Tb ok! XxX std chgs to send, Â£1.50 to rcv\n",
      "\n",
      "\n",
      "6 ham\tEven my brother is not like to speak with me. They treat me like aids patent.\n",
      "\n",
      "\n",
      "7 ham\tAs per your request 'Melle Melle (Oru Minnaminunginte Nurungu Vettam)' has been set as your callertune for all Callers. Press *9 to copy your friends Callertune\n",
      "\n",
      "\n",
      "8 spam\tWINNER!! As a valued network customer you have been selected to receivea Â£900 prize reward! To claim call 09061701461. Claim code KL341. Valid 12 hours only.\n",
      "\n",
      "\n",
      "9 spam\tHad your mobile 11 months or more? U R entitled to Update to the latest colour mobiles with camera for Free! Call The Mobile Update Co FREE on 08002986030\n",
      "\n",
      "\n",
      "10 ham\tI'm gonna be home soon and i don't want to talk about this stuff anymore tonight, k? I've cried enough today.\n",
      "\n",
      "\n",
      "11 spam\tSIX chances to win CASH! From 100 to 20,000 pounds txt> CSH11 and send to 87575. Cost 150p/day, 6days, 16+ TsandCs apply Reply HL 4 info\n",
      "\n",
      "\n",
      "12 spam\tURGENT! You have won a 1 week FREE membership in our Â£100,000 Prize Jackpot! Txt the word: CLAIM to No: 81010 T&C www.dbuk.net LCCLTD POBOX 4403LDNW1A7RW18\n",
      "\n",
      "\n",
      "13 ham\tI've been searching for the right words to thank you for this breather. I promise i wont take your help for granted and will fulfil my promise. You have been wonderful and a blessing at all times.\n",
      "\n",
      "\n",
      "14 ham\tI HAVE A DATE ON SUNDAY WITH WILL!!\n",
      "\n",
      "\n",
      "15 spam\tXXXMobileMovieClub: To use your credit, click the WAP link in the next txt message or click here>> http://wap. xxxmobilemovieclub.com?n=QJKGIGHJJGCBL\n",
      "\n",
      "\n",
      "16 ham\tOh k...i'm watching here:)\n",
      "\n",
      "\n",
      "17 ham\tEh u remember how 2 spell his name... Yes i did. He v naughty make until i v wet.\n",
      "\n",
      "\n",
      "18 ham\tFine if thatÂ’s the way u feel. ThatÂ’s the way its gota b\n",
      "\n",
      "\n",
      "19 spam\tEngland v Macedonia - dont miss the goals/team news. Txt ur national team to 87077 eg ENGLAND to 87077 Try:WALES, SCOTLAND 4txt/Ãº1.20 POBOXox36504W45WQ 16+\n",
      "\n",
      "\n"
     ]
    }
   ],
   "source": [
    "for messno, msg in enumerate(messages[:20]):\n",
    "    print(messno, msg)\n",
    "    print('\\n')"
   ]
  },
  {
   "cell_type": "code",
   "execution_count": 4,
   "metadata": {
    "collapsed": true
   },
   "outputs": [],
   "source": [
    "# Organize messages into dataframes using pandas"
   ]
  },
  {
   "cell_type": "code",
   "execution_count": 5,
   "metadata": {},
   "outputs": [
    {
     "data": {
      "text/html": [
       "<div>\n",
       "<style>\n",
       "    .dataframe thead tr:only-child th {\n",
       "        text-align: right;\n",
       "    }\n",
       "\n",
       "    .dataframe thead th {\n",
       "        text-align: left;\n",
       "    }\n",
       "\n",
       "    .dataframe tbody tr th {\n",
       "        vertical-align: top;\n",
       "    }\n",
       "</style>\n",
       "<table border=\"1\" class=\"dataframe\">\n",
       "  <thead>\n",
       "    <tr style=\"text-align: right;\">\n",
       "      <th></th>\n",
       "      <th>label</th>\n",
       "      <th>message</th>\n",
       "    </tr>\n",
       "  </thead>\n",
       "  <tbody>\n",
       "    <tr>\n",
       "      <th>0</th>\n",
       "      <td>ham</td>\n",
       "      <td>Go until jurong point, crazy.. Available only ...</td>\n",
       "    </tr>\n",
       "    <tr>\n",
       "      <th>1</th>\n",
       "      <td>ham</td>\n",
       "      <td>Ok lar... Joking wif u oni...</td>\n",
       "    </tr>\n",
       "    <tr>\n",
       "      <th>2</th>\n",
       "      <td>spam</td>\n",
       "      <td>Free entry in 2 a wkly comp to win FA Cup fina...</td>\n",
       "    </tr>\n",
       "    <tr>\n",
       "      <th>3</th>\n",
       "      <td>ham</td>\n",
       "      <td>U dun say so early hor... U c already then say...</td>\n",
       "    </tr>\n",
       "    <tr>\n",
       "      <th>4</th>\n",
       "      <td>ham</td>\n",
       "      <td>Nah I don't think he goes to usf, he lives aro...</td>\n",
       "    </tr>\n",
       "  </tbody>\n",
       "</table>\n",
       "</div>"
      ],
      "text/plain": [
       "  label                                            message\n",
       "0   ham  Go until jurong point, crazy.. Available only ...\n",
       "1   ham                      Ok lar... Joking wif u oni...\n",
       "2  spam  Free entry in 2 a wkly comp to win FA Cup fina...\n",
       "3   ham  U dun say so early hor... U c already then say...\n",
       "4   ham  Nah I don't think he goes to usf, he lives aro..."
      ]
     },
     "execution_count": 5,
     "metadata": {},
     "output_type": "execute_result"
    }
   ],
   "source": [
    "import pandas as pd\n",
    "\n",
    "messages = pd.read_csv('smsspamcollection/SMSSpamCollection', sep='\\t', names = ['label', 'message'])\n",
    "\n",
    "messages.head()"
   ]
  },
  {
   "cell_type": "code",
   "execution_count": 6,
   "metadata": {},
   "outputs": [
    {
     "data": {
      "text/html": [
       "<div>\n",
       "<style>\n",
       "    .dataframe thead tr:only-child th {\n",
       "        text-align: right;\n",
       "    }\n",
       "\n",
       "    .dataframe thead th {\n",
       "        text-align: left;\n",
       "    }\n",
       "\n",
       "    .dataframe tbody tr th {\n",
       "        vertical-align: top;\n",
       "    }\n",
       "</style>\n",
       "<table border=\"1\" class=\"dataframe\">\n",
       "  <thead>\n",
       "    <tr style=\"text-align: right;\">\n",
       "      <th></th>\n",
       "      <th>label</th>\n",
       "      <th>message</th>\n",
       "    </tr>\n",
       "  </thead>\n",
       "  <tbody>\n",
       "    <tr>\n",
       "      <th>count</th>\n",
       "      <td>5572</td>\n",
       "      <td>5572</td>\n",
       "    </tr>\n",
       "    <tr>\n",
       "      <th>unique</th>\n",
       "      <td>2</td>\n",
       "      <td>5169</td>\n",
       "    </tr>\n",
       "    <tr>\n",
       "      <th>top</th>\n",
       "      <td>ham</td>\n",
       "      <td>Sorry, I'll call later</td>\n",
       "    </tr>\n",
       "    <tr>\n",
       "      <th>freq</th>\n",
       "      <td>4825</td>\n",
       "      <td>30</td>\n",
       "    </tr>\n",
       "  </tbody>\n",
       "</table>\n",
       "</div>"
      ],
      "text/plain": [
       "       label                 message\n",
       "count   5572                    5572\n",
       "unique     2                    5169\n",
       "top      ham  Sorry, I'll call later\n",
       "freq    4825                      30"
      ]
     },
     "execution_count": 6,
     "metadata": {},
     "output_type": "execute_result"
    }
   ],
   "source": [
    "messages.describe()"
   ]
  },
  {
   "cell_type": "code",
   "execution_count": 7,
   "metadata": {},
   "outputs": [
    {
     "data": {
      "text/html": [
       "<div>\n",
       "<style>\n",
       "    .dataframe thead tr:only-child th {\n",
       "        text-align: right;\n",
       "    }\n",
       "\n",
       "    .dataframe thead th {\n",
       "        text-align: left;\n",
       "    }\n",
       "\n",
       "    .dataframe tbody tr th {\n",
       "        vertical-align: top;\n",
       "    }\n",
       "</style>\n",
       "<table border=\"1\" class=\"dataframe\">\n",
       "  <thead>\n",
       "    <tr>\n",
       "      <th></th>\n",
       "      <th colspan=\"4\" halign=\"left\">message</th>\n",
       "    </tr>\n",
       "    <tr>\n",
       "      <th></th>\n",
       "      <th>count</th>\n",
       "      <th>unique</th>\n",
       "      <th>top</th>\n",
       "      <th>freq</th>\n",
       "    </tr>\n",
       "    <tr>\n",
       "      <th>label</th>\n",
       "      <th></th>\n",
       "      <th></th>\n",
       "      <th></th>\n",
       "      <th></th>\n",
       "    </tr>\n",
       "  </thead>\n",
       "  <tbody>\n",
       "    <tr>\n",
       "      <th>ham</th>\n",
       "      <td>4825</td>\n",
       "      <td>4516</td>\n",
       "      <td>Sorry, I'll call later</td>\n",
       "      <td>30</td>\n",
       "    </tr>\n",
       "    <tr>\n",
       "      <th>spam</th>\n",
       "      <td>747</td>\n",
       "      <td>653</td>\n",
       "      <td>Please call our customer service representativ...</td>\n",
       "      <td>4</td>\n",
       "    </tr>\n",
       "  </tbody>\n",
       "</table>\n",
       "</div>"
      ],
      "text/plain": [
       "      message                                                               \n",
       "        count unique                                                top freq\n",
       "label                                                                       \n",
       "ham      4825   4516                             Sorry, I'll call later   30\n",
       "spam      747    653  Please call our customer service representativ...    4"
      ]
     },
     "execution_count": 7,
     "metadata": {},
     "output_type": "execute_result"
    }
   ],
   "source": [
    "messages.groupby('label').describe()"
   ]
  },
  {
   "cell_type": "code",
   "execution_count": 8,
   "metadata": {
    "collapsed": true
   },
   "outputs": [],
   "source": [
    "# add a new feature called length that stores length of the message"
   ]
  },
  {
   "cell_type": "code",
   "execution_count": 9,
   "metadata": {},
   "outputs": [
    {
     "data": {
      "text/html": [
       "<div>\n",
       "<style>\n",
       "    .dataframe thead tr:only-child th {\n",
       "        text-align: right;\n",
       "    }\n",
       "\n",
       "    .dataframe thead th {\n",
       "        text-align: left;\n",
       "    }\n",
       "\n",
       "    .dataframe tbody tr th {\n",
       "        vertical-align: top;\n",
       "    }\n",
       "</style>\n",
       "<table border=\"1\" class=\"dataframe\">\n",
       "  <thead>\n",
       "    <tr style=\"text-align: right;\">\n",
       "      <th></th>\n",
       "      <th>label</th>\n",
       "      <th>message</th>\n",
       "      <th>length</th>\n",
       "    </tr>\n",
       "  </thead>\n",
       "  <tbody>\n",
       "    <tr>\n",
       "      <th>0</th>\n",
       "      <td>ham</td>\n",
       "      <td>Go until jurong point, crazy.. Available only ...</td>\n",
       "      <td>111</td>\n",
       "    </tr>\n",
       "    <tr>\n",
       "      <th>1</th>\n",
       "      <td>ham</td>\n",
       "      <td>Ok lar... Joking wif u oni...</td>\n",
       "      <td>29</td>\n",
       "    </tr>\n",
       "    <tr>\n",
       "      <th>2</th>\n",
       "      <td>spam</td>\n",
       "      <td>Free entry in 2 a wkly comp to win FA Cup fina...</td>\n",
       "      <td>155</td>\n",
       "    </tr>\n",
       "    <tr>\n",
       "      <th>3</th>\n",
       "      <td>ham</td>\n",
       "      <td>U dun say so early hor... U c already then say...</td>\n",
       "      <td>49</td>\n",
       "    </tr>\n",
       "    <tr>\n",
       "      <th>4</th>\n",
       "      <td>ham</td>\n",
       "      <td>Nah I don't think he goes to usf, he lives aro...</td>\n",
       "      <td>61</td>\n",
       "    </tr>\n",
       "    <tr>\n",
       "      <th>5</th>\n",
       "      <td>spam</td>\n",
       "      <td>FreeMsg Hey there darling it's been 3 week's n...</td>\n",
       "      <td>147</td>\n",
       "    </tr>\n",
       "  </tbody>\n",
       "</table>\n",
       "</div>"
      ],
      "text/plain": [
       "  label                                            message  length\n",
       "0   ham  Go until jurong point, crazy.. Available only ...     111\n",
       "1   ham                      Ok lar... Joking wif u oni...      29\n",
       "2  spam  Free entry in 2 a wkly comp to win FA Cup fina...     155\n",
       "3   ham  U dun say so early hor... U c already then say...      49\n",
       "4   ham  Nah I don't think he goes to usf, he lives aro...      61\n",
       "5  spam  FreeMsg Hey there darling it's been 3 week's n...     147"
      ]
     },
     "execution_count": 9,
     "metadata": {},
     "output_type": "execute_result"
    }
   ],
   "source": [
    "messages['length'] = messages['message'].apply(len)\n",
    "\n",
    "messages.head(6)"
   ]
  },
  {
   "cell_type": "code",
   "execution_count": 10,
   "metadata": {
    "collapsed": true
   },
   "outputs": [],
   "source": [
    "# distribution of message length"
   ]
  },
  {
   "cell_type": "code",
   "execution_count": 11,
   "metadata": {},
   "outputs": [
    {
     "data": {
      "image/png": "[encoded data removed]",
      "text/plain": [
       "<matplotlib.figure.Figure at 0x2bf13ef3a58>"
      ]
     },
     "metadata": {},
     "output_type": "display_data"
    }
   ],
   "source": [
    "import matplotlib.pyplot as plt\n",
    "import seaborn as sns\n",
    "%matplotlib inline\n",
    "\n",
    "plt.xlabel('message length')\n",
    "messages['length'].hist(bins=100, edgecolor='black', figsize=(10,5))\n",
    "plt.savefig('output/Histogram1.png')"
   ]
  },
  {
   "cell_type": "code",
   "execution_count": 12,
   "metadata": {
    "collapsed": true
   },
   "outputs": [],
   "source": [
    "# plot separate histograms for spam and ham to analyze the difference in distribution"
   ]
  },
  {
   "cell_type": "code",
   "execution_count": 13,
   "metadata": {},
   "outputs": [
    {
     "data": {
      "image/png": "[encoded data removed]",
      "text/plain": [
       "<matplotlib.figure.Figure at 0x2bf0c0c9f98>"
      ]
     },
     "metadata": {},
     "output_type": "display_data"
    }
   ],
   "source": [
    "messages.hist(column='length',by='label',bins=60,figsize=(12,5),\n",
    "              edgecolor='black')\n",
    "plt.savefig('output/Histogram2.png')"
   ]
  },
  {
   "cell_type": "code",
   "execution_count": 14,
   "metadata": {
    "collapsed": true
   },
   "outputs": [],
   "source": [
    "# text pre-processing"
   ]
  },
  {
   "cell_type": "code",
   "execution_count": 15,
   "metadata": {
    "collapsed": true
   },
   "outputs": [],
   "source": [
    "def text_process(data):\n",
    "    '''\n",
    "    1. remove punc\n",
    "    2. remove stop words\n",
    "    3. return list of clean text words\n",
    "    '''\n",
    "    \n",
    "    nopunc = [c for c in data if c not in string.punctuation] #remove punctuations\n",
    "    nopunc = ''.join(nopunc)\n",
    "    \n",
    "    #nltk.download('stopwords')\n",
    "    clean_msgs = [word for word in nopunc.split() if word.lower() not in stopwords.words('english')] # remove stopwords\n",
    "    \n",
    "    return clean_msgs"
   ]
  },
  {
   "cell_type": "code",
   "execution_count": 16,
   "metadata": {},
   "outputs": [
    {
     "name": "stdout",
     "output_type": "stream",
     "text": [
      "[nltk_data] Downloading package stopwords to\n",
      "[nltk_data]     C:\\Users\\Rohan\\AppData\\Roaming\\nltk_data...\n",
      "[nltk_data]   Package stopwords is already up-to-date!\n",
      "\n",
      "################################################## Processed Messages ##################################################\n",
      "\n",
      "     label                                            message  length                                      processed_msg\n",
      "0      ham  Go until jurong point, crazy.. Available only ...     111  [Go, jurong, point, crazy, Available, bugis, n...\n",
      "1      ham                      Ok lar... Joking wif u oni...      29                     [Ok, lar, Joking, wif, u, oni]\n",
      "2     spam  Free entry in 2 a wkly comp to win FA Cup fina...     155  [Free, entry, 2, wkly, comp, win, FA, Cup, fin...\n",
      "3      ham  U dun say so early hor... U c already then say...      49      [U, dun, say, early, hor, U, c, already, say]\n",
      "4      ham  Nah I don't think he goes to usf, he lives aro...      61  [Nah, dont, think, goes, usf, lives, around, t...\n",
      "5     spam  FreeMsg Hey there darling it's been 3 week's n...     147  [FreeMsg, Hey, darling, 3, weeks, word, back, ...\n",
      "6      ham  Even my brother is not like to speak with me. ...      77  [Even, brother, like, speak, treat, like, aids...\n",
      "7      ham  As per your request 'Melle Melle (Oru Minnamin...     160  [per, request, Melle, Melle, Oru, Minnaminungi...\n",
      "8     spam  WINNER!! As a valued network customer you have...     157  [WINNER, valued, network, customer, selected, ...\n",
      "9     spam  Had your mobile 11 months or more? U R entitle...     154  [mobile, 11, months, U, R, entitled, Update, l...\n",
      "10     ham  I'm gonna be home soon and i don't want to tal...     109  [Im, gonna, home, soon, dont, want, talk, stuf...\n",
      "11    spam  SIX chances to win CASH! From 100 to 20,000 po...     136  [SIX, chances, win, CASH, 100, 20000, pounds, ...\n",
      "12    spam  URGENT! You have won a 1 week FREE membership ...     155  [URGENT, 1, week, FREE, membership, £100000, P...\n",
      "13     ham  I've been searching for the right words to tha...     196  [Ive, searching, right, words, thank, breather...\n",
      "14     ham                I HAVE A DATE ON SUNDAY WITH WILL!!      35                                     [DATE, SUNDAY]\n",
      "15    spam  XXXMobileMovieClub: To use your credit, click ...     149  [XXXMobileMovieClub, use, credit, click, WAP, ...\n",
      "16     ham                         Oh k...i'm watching here:)      26                                [Oh, kim, watching]\n",
      "17     ham  Eh u remember how 2 spell his name... Yes i di...      81  [Eh, u, remember, 2, spell, name, Yes, v, naug...\n",
      "18     ham  Fine if thats the way u feel. Thats the way ...      56  [Fine, thats, way, u, feel, Thats, way, gota...\n",
      "19    spam  England v Macedonia - dont miss the goals/team...     155  [England, v, Macedonia, dont, miss, goalsteam,...\n",
      "20     ham          Is that seriously how you spell his name?      41                           [seriously, spell, name]\n",
      "21     ham    I‘m going to try for 2 months ha ha only joking      47       [I‘m, going, try, 2, months, ha, ha, joking]\n",
      "22     ham  So ü pay first lar... Then when is da stock co...      52             [ü, pay, first, lar, da, stock, comin]\n",
      "23     ham  Aft i finish my lunch then i go str down lor. ...      88  [Aft, finish, lunch, go, str, lor, Ard, 3, smt...\n",
      "24     ham  Ffffffffff. Alright no way I can meet up with ...      57           [Ffffffffff, Alright, way, meet, sooner]\n",
      "25     ham  Just forced myself to eat a slice. I'm really ...     144  [forced, eat, slice, Im, really, hungry, tho, ...\n",
      "26     ham                     Lol your always so convincing.      30                          [Lol, always, convincing]\n",
      "27     ham  Did you catch the bus ? Are you frying an egg ...     134  [catch, bus, frying, egg, make, tea, eating, m...\n",
      "28     ham  I'm back &amp; we're packing the car now, I'll...      75  [Im, back, amp, packing, car, Ill, let, know, ...\n",
      "29     ham  Ahhh. Work. I vaguely remember that! What does...      64   [Ahhh, Work, vaguely, remember, feel, like, Lol]\n",
      "...    ...                                                ...     ...                                                ...\n",
      "5542   ham           Armand says get your ass over to epsilon      40                  [Armand, says, get, ass, epsilon]\n",
      "5543   ham             U still havent got urself a jacket ah?      38        [U, still, havent, got, urself, jacket, ah]\n",
      "5544   ham  I'm taking derek &amp; taylor to walmart, if I...     154  [Im, taking, derek, amp, taylor, walmart, Im, ...\n",
      "5545   ham      Hi its in durban are you still on this number      45                        [Hi, durban, still, number]\n",
      "5546   ham         Ic. There are a lotta childporn cars then.      42                       [Ic, lotta, childporn, cars]\n",
      "5547  spam  Had your contract mobile 11 Mnths? Latest Moto...     160  [contract, mobile, 11, Mnths, Latest, Motorola...\n",
      "5548   ham                 No, I was trying it all weekend ;V      34                               [trying, weekend, V]\n",
      "5549   ham  You know, wot people wear. T shirts, jumpers, ...      87  [know, wot, people, wear, shirts, jumpers, hat...\n",
      "5550   ham        Cool, what time you think you can get here?      43                           [Cool, time, think, get]\n",
      "5551   ham  Wen did you get so spiritual and deep. That's ...      51          [Wen, get, spiritual, deep, Thats, great]\n",
      "5552   ham  Have a safe trip to Nigeria. Wish you happines...      91  [safe, trip, Nigeria, Wish, happiness, soon, c...\n",
      "5553   ham                        Hahaha..use your brain dear      27                           [Hahahause, brain, dear]\n",
      "5554   ham  Well keep in mind I've only got enough gas for...      98  [Well, keep, mind, Ive, got, enough, gas, one,...\n",
      "5555   ham  Yeh. Indians was nice. Tho it did kane me off ...     153  [Yeh, Indians, nice, Tho, kane, bit, shud, go,...\n",
      "5556   ham  Yes i have. So that's why u texted. Pshew...mi...      63        [Yes, thats, u, texted, Pshewmissing, much]\n",
      "5557   ham  No. I meant the calculation is the same. That ...     273  [meant, calculation, ltgt, units, ltgt, school...\n",
      "5558   ham                             Sorry, I'll call later      22                          [Sorry, Ill, call, later]\n",
      "5559   ham  if you aren't here in the next  &lt;#&gt;  hou...      66       [arent, next, ltgt, hours, imma, flip, shit]\n",
      "5560   ham                  Anything lor. Juz both of us lor.      33                      [Anything, lor, Juz, us, lor]\n",
      "5561   ham  Get me out of this dump heap. My mom decided t...      70  [Get, dump, heap, mom, decided, come, lowes, B...\n",
      "5562   ham  Ok lor... Sony ericsson salesman... I ask shuh...      96  [Ok, lor, Sony, ericsson, salesman, ask, shuhu...\n",
      "5563   ham                                Ard 6 like dat lor.      19                           [Ard, 6, like, dat, lor]\n",
      "5564   ham  Why don't you wait 'til at least wednesday to ...      67      [dont, wait, til, least, wednesday, see, get]\n",
      "5565   ham                                       Huh y lei...      12                                         [Huh, lei]\n",
      "5566  spam  REMINDER FROM O2: To get 2.50 pounds free call...     147  [REMINDER, O2, get, 250, pounds, free, call, c...\n",
      "5567  spam  This is the 2nd time we have tried 2 contact u...     160  [2nd, time, tried, 2, contact, u, U, £750, Pou...\n",
      "5568   ham               Will ü b going to esplanade fr home?      36                 [ü, b, going, esplanade, fr, home]\n",
      "5569   ham  Pity, * was in mood for that. So...any other s...      57                   [Pity, mood, Soany, suggestions]\n",
      "5570   ham  The guy did some bitching but I acted like i'd...     125  [guy, bitching, acted, like, id, interested, b...\n",
      "5571   ham                         Rofl. Its true to its name      26                                 [Rofl, true, name]\n",
      "\n",
      "[5572 rows x 4 columns]\n"
     ]
    }
   ],
   "source": [
    "# File:        text_preprocess.py\n",
    "#\n",
    "# Author:      Rohan Patel\n",
    "#\n",
    "# Date:        05/09/2018\n",
    "#\n",
    "# Description: This script loads the sms spam data, organizes the data into a pandas dataframe, adds a new \n",
    "#              feature (length of message) to the data, applies some basic text pre-processing techniques \n",
    "#              like stopword removal and punctuation removal, and converts the messages into a list of processed \n",
    "#              tokens. Finally, the processed dataframe is copied into a new csv file processed_msgs.csv\n",
    "\n",
    "import pandas as pd\n",
    "import nltk\n",
    "from nltk.corpus import stopwords\n",
    "from nltk.tokenize import word_tokenize\n",
    "import string\n",
    "nltk.download('stopwords')\n",
    "\n",
    "def loadData():\n",
    "    \n",
    "    messages = pd.read_csv('smsspamcollection/SMSSpamCollection', sep='\\t', names = ['label', 'message'])\n",
    "    messages['length'] = messages['message'].apply(len)\n",
    "    \n",
    "    return messages\n",
    "\n",
    "def text_process(data):\n",
    "    '''\n",
    "    1. remove punc\n",
    "    2. remove stop words\n",
    "    3. return list of clean text words\n",
    "    '''\n",
    "    \n",
    "    nopunc = [c for c in data if c not in string.punctuation] #remove punctuations\n",
    "    nopunc = ''.join(nopunc)\n",
    "    \n",
    "    clean_msgs = [word for word in nopunc.split() if word.lower() not in stopwords.words('english')] # remove stopwords\n",
    "    \n",
    "    return clean_msgs\n",
    "\n",
    "def main():\n",
    "    \n",
    "    messages = loadData()\n",
    "    #print(messages)\n",
    "    messages['processed_msg'] = messages['message'].apply(text_process)\n",
    "    \n",
    "    print('\\n################################################## Processed Messages ##################################################\\n')\n",
    "    with pd.option_context('expand_frame_repr', False):\n",
    "        print (messages)\n",
    "    #print(messages)\n",
    "\n",
    "    messages.to_csv('output/processed_msgs.csv', encoding='utf-8', index=False) #copy processed messages dataframe to a new csv file\n",
    "\n",
    "if __name__ == \"__main__\":\n",
    "    main()"
   ]
  },
  {
   "cell_type": "code",
   "execution_count": 17,
   "metadata": {
    "collapsed": true
   },
   "outputs": [],
   "source": [
    "# Vectorization of processed messages"
   ]
  },
  {
   "cell_type": "code",
   "execution_count": 18,
   "metadata": {},
   "outputs": [
    {
     "name": "stdout",
     "output_type": "stream",
     "text": [
      "\n",
      "############### SVM ###############\n",
      "\n",
      "             precision    recall  f1-score   support\n",
      "\n",
      "        ham       0.97      1.00      0.98      1475\n",
      "       spam       0.99      0.77      0.87       197\n",
      "\n",
      "avg / total       0.97      0.97      0.97      1672\n",
      "\n",
      "\n",
      "############### Decision Tree ###############\n",
      "\n",
      "             precision    recall  f1-score   support\n",
      "\n",
      "        ham       0.98      0.99      0.99      1475\n",
      "       spam       0.93      0.85      0.89       197\n",
      "\n",
      "avg / total       0.97      0.97      0.97      1672\n",
      "\n",
      "\n",
      "############### Multinomial NB ###############\n",
      "\n",
      "             precision    recall  f1-score   support\n",
      "\n",
      "        ham       0.98      0.98      0.98      1475\n",
      "       spam       0.87      0.88      0.88       197\n",
      "\n",
      "avg / total       0.97      0.97      0.97      1672\n",
      "\n",
      "\n",
      "############### KNN ###############\n",
      "\n",
      "             precision    recall  f1-score   support\n",
      "\n",
      "        ham       0.90      1.00      0.95      1475\n",
      "       spam       1.00      0.21      0.34       197\n",
      "\n",
      "avg / total       0.92      0.91      0.88      1672\n",
      "\n",
      "\n",
      "############### Random Forest ###############\n",
      "\n",
      "             precision    recall  f1-score   support\n",
      "\n",
      "        ham       0.96      1.00      0.98      1475\n",
      "       spam       0.99      0.71      0.83       197\n",
      "\n",
      "avg / total       0.97      0.96      0.96      1672\n",
      "\n",
      "\n",
      "############### AdaBoost ###############\n",
      "\n",
      "             precision    recall  f1-score   support\n",
      "\n",
      "        ham       0.97      0.99      0.98      1475\n",
      "       spam       0.89      0.75      0.81       197\n",
      "\n",
      "avg / total       0.96      0.96      0.96      1672\n",
      "\n",
      "\n",
      "############### Bagging Classifier ###############\n",
      "\n",
      "             precision    recall  f1-score   support\n",
      "\n",
      "        ham       0.97      0.99      0.98      1475\n",
      "       spam       0.95      0.80      0.87       197\n",
      "\n",
      "avg / total       0.97      0.97      0.97      1672\n",
      "\n",
      "\n",
      "############### Accuracy Scores ###############\n",
      "\n",
      "\n",
      "                    Accuracy Rate\n",
      "SVM                 0.971890     \n",
      "Decision Tree       0.974880     \n",
      "Multinomial NB      0.971292     \n",
      "KNN                 0.906699     \n",
      "Random Forest       0.964713     \n",
      "AdaBoost            0.958732     \n",
      "Bagging Classifier  0.970694     \n",
      "\n",
      "\n"
     ]
    },
    {
     "data": {
      "image/png": "[encoded data removed]",
      "text/plain": [
       "<matplotlib.figure.Figure at 0x2bf17d8b908>"
      ]
     },
     "metadata": {},
     "output_type": "display_data"
    }
   ],
   "source": [
    "# File:        text_classification.py\n",
    "#\n",
    "# Author:      Rohan Patel\n",
    "#\n",
    "# Date:        05/10/2018\n",
    "#\n",
    "# Description: This script contains the main sms classification code. We first load the processed \n",
    "#              messages, convert each message into a bag of words and then into a tfidf vector \n",
    "#              representation. Then we split the tfidf feature vector into training and test sets, \n",
    "#              build our classifier on the training set, and test it on the test set.  \n",
    "\n",
    "import pandas as pd\n",
    "import pickle\n",
    "from sklearn.feature_extraction.text import CountVectorizer\n",
    "from sklearn.feature_extraction.text import TfidfTransformer\n",
    "from sklearn.model_selection import train_test_split\n",
    "from sklearn.svm import SVC\n",
    "from sklearn.tree import DecisionTreeClassifier\n",
    "from sklearn.naive_bayes import MultinomialNB\n",
    "from sklearn.neighbors import KNeighborsClassifier\n",
    "from sklearn.ensemble import RandomForestClassifier\n",
    "from sklearn.ensemble import AdaBoostClassifier\n",
    "from sklearn.ensemble import BaggingClassifier\n",
    "from sklearn.metrics import accuracy_score\n",
    "from sklearn.metrics import classification_report\n",
    "import matplotlib.pyplot as plt\n",
    "%matplotlib inline\n",
    "pd.set_option('display.max_colwidth', -1)\n",
    "\n",
    "def Tfidf_Vectorization(messages):\n",
    "    '''\n",
    "    1. Convert word tokens from processed msgs dataframe into a bag of words\n",
    "    2. Convert bag of words representation into tfidf vectorized representation for each message\n",
    "    '''\n",
    "    \n",
    "    bow_transformer = CountVectorizer(analyzer=text_process).fit(messages['message'])\n",
    "    bow = bow_transformer.transform(messages['message']) # bag of words\n",
    "\n",
    "    tfidf_transformer = TfidfTransformer().fit(bow)\n",
    "    tfidf_vect = tfidf_transformer.transform(bow) # tfidf vector representation\n",
    "    \n",
    "    pickle.dump(tfidf_vect, open(\"output/tfidf_vector.pickle\", \"wb\")) # stores tfidf vector in a pickle file so it could be used later in future scripts\n",
    "    \n",
    "    return tfidf_vect\n",
    "\n",
    "def TrainTestSplit(tfidf_vect, messages):\n",
    "    '''\n",
    "    Split dataset into training and test sets. We use a 70/30 split.\n",
    "    '''\n",
    "    X_train, X_test, y_train, y_test = train_test_split(tfidf_vect, messages['label'], test_size = 0.3, random_state = 101)\n",
    "    \n",
    "    return X_train, X_test, y_train, y_test\n",
    "\n",
    "def train_classifier(classifier, X_train, y_train):\n",
    "    classifier.fit(X_train, y_train)\n",
    "    \n",
    "def predict_labels(classifier, X_test):\n",
    "    return (classifier.predict(X_test))\n",
    "\n",
    "def main():\n",
    "    \n",
    "    messages = pd.read_csv('output/processed_msgs.csv')\n",
    "\n",
    "    tfidf_vect = Tfidf_Vectorization(messages)\n",
    "    X_train, X_test, y_train, y_test = TrainTestSplit(tfidf_vect, messages)\n",
    "    \n",
    "    svm = SVC(kernel = 'sigmoid', gamma = 1.0)\n",
    "    dtree = DecisionTreeClassifier()\n",
    "    mnb = MultinomialNB(alpha = 0.2)\n",
    "    knn = KNeighborsClassifier()\n",
    "    rfc = RandomForestClassifier()\n",
    "    ada_boost = AdaBoostClassifier()\n",
    "    bagging_clf = BaggingClassifier()\n",
    "    \n",
    "    classifiers = {'SVM': svm, 'Decision Tree': dtree, 'Multinomial NB': mnb, 'KNN': knn, 'Random Forest': rfc, \n",
    "                   'AdaBoost': ada_boost, 'Bagging Classifier': bagging_clf}\n",
    "    \n",
    "    X_train2, X_test2 = train_test_split(messages['message'], test_size = 0.3, random_state = 101)\n",
    "    pred_scores = []\n",
    "    pred = dict()\n",
    "    file = open('output/misclassified_msgs.txt', 'a', encoding='utf-8') # misclassified messages will be written in this\n",
    "    for k, v in classifiers.items():\n",
    "        train_classifier(v, X_train, y_train)\n",
    "        pred[k] = predict_labels(v, X_test)\n",
    "        pred_scores.append((k, [accuracy_score(y_test, pred[k])]))\n",
    "        print('\\n############### ' + k + ' ###############\\n')\n",
    "        print(classification_report(y_test, pred[k]))\n",
    "\n",
    "        # write misclassified messages into a new text file\n",
    "        file.write('\\n#################### ' + k + ' ####################\\n')\n",
    "        file.write('\\nMisclassified Spam:\\n\\n')\n",
    "        for msg in X_test2[y_test < pred[k]]:\n",
    "            file.write(msg)\n",
    "            file.write('\\n')\n",
    "        file.write('\\nMisclassified Ham:\\n\\n')\n",
    "        for msg in X_test2[y_test > pred[k]]:\n",
    "            file.write(msg)\n",
    "            file.write('\\n')\n",
    "    file.close()\n",
    "\n",
    "    print('\\n############### Accuracy Scores ###############')\n",
    "    accuracy = pd.DataFrame.from_items(pred_scores, orient = 'index', columns = ['Accuracy Rate'])\n",
    "    print('\\n')\n",
    "    print(accuracy)\n",
    "    print('\\n')\n",
    "\n",
    "    #plot accuracy scores in a bar plot\n",
    "    accuracy.plot(kind =  'bar', ylim=(0.85,1.0), figsize=(10,5))\n",
    "    plt.ylabel('Accuracy Score')\n",
    "    plt.title('Distribution by Classifier')\n",
    "    plt.legend(bbox_to_anchor=(1.05, 1), loc=2, borderaxespad=0.)\n",
    "    \n",
    "if __name__ == \"__main__\":\n",
    "    main()"
   ]
  },
  {
   "cell_type": "code",
   "execution_count": 111,
   "metadata": {
    "collapsed": true
   },
   "outputs": [],
   "source": [
    "test_tfidf = pickle.load(open(\"output/tfidf_vector.pickle\", \"rb\"))"
   ]
  },
  {
   "cell_type": "code",
   "execution_count": null,
   "metadata": {
    "collapsed": true
   },
   "outputs": [],
   "source": []
  }
 ],
 "metadata": {
  "kernelspec": {
   "display_name": "Python 3",
   "language": "python",
   "name": "python3"
  },
  "language_info": {
   "codemirror_mode": {
    "name": "ipython",
    "version": 3
   },
   "file_extension": ".py",
   "mimetype": "text/x-python",
   "name": "python",
   "nbconvert_exporter": "python",
   "pygments_lexer": "ipython3",
   "version": "3.6.2"
  }
 },
 "nbformat": 4,
 "nbformat_minor": 2
}
